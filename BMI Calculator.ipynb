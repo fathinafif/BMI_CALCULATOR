{
 "cells": [
  {
   "cell_type": "markdown",
   "id": "bc9f245c",
   "metadata": {},
   "source": [
    "# BMI Calculator"
   ]
  },
  {
   "cell_type": "markdown",
   "id": "6306c28d",
   "metadata": {},
   "source": [
    "*Resource* : https://www.calculator.net/bmi-calculator.html"
   ]
  },
  {
   "cell_type": "markdown",
   "id": "9241f495",
   "metadata": {},
   "source": [
    "## Building Calculator for Calculating BMI\n",
    "\n",
    "**Formula** : BMI (Metric Unit, SI) = Mass (kg) / Height^2 (m)"
   ]
  },
  {
   "cell_type": "code",
   "execution_count": 63,
   "id": "eea808bf",
   "metadata": {},
   "outputs": [
    {
     "name": "stdout",
     "output_type": "stream",
     "text": [
      "Input your Name: Fathin\n",
      "Enter you Weight in Kilograms (Kg): 66\n",
      "Enter you Height in Meter (M): 1.65\n",
      "24.242424242424246\n"
     ]
    }
   ],
   "source": [
    "name = input(\"Input your Name: \")\n",
    "\n",
    "weight = float(input(\"Enter you Weight in Kilograms (Kg): \"))\n",
    "\n",
    "height = float(input(\"Enter you Height in Meter (M): \"))\n",
    "\n",
    "BMI = weight/(height**2)\n",
    "\n",
    "print (BMI)"
   ]
  },
  {
   "cell_type": "markdown",
   "id": "ee65f57c",
   "metadata": {},
   "source": [
    "## Make Classification Class by BMI\n",
    "\n",
    "\n",
    "- Severe Thinness\t< 16\n",
    "- Moderate Thinness\t16 - 17\n",
    "- Mild Thinness\t17 - 18.5\n",
    "- Normal\t18.5 - 25\n",
    "- Overweight\t25 - 30\n",
    "- Obese Class I\t30 - 35\n",
    "- Obese Class II\t35 - 40\n",
    "- Obese Class III\t> 40\n"
   ]
  },
  {
   "cell_type": "code",
   "execution_count": 67,
   "id": "ea6a54c0",
   "metadata": {},
   "outputs": [
    {
     "name": "stdout",
     "output_type": "stream",
     "text": [
      "Fathin, You Have Normal Weight\n"
     ]
    }
   ],
   "source": [
    "if BMI > 0 :\n",
    "        if BMI < 16 :\n",
    "            print(name + ', You Are Severe Thinness')\n",
    "        elif BMI <=17 :\n",
    "            print(name + ', You Are Moderate Thinness')\n",
    "        elif BMI <=18.5 :\n",
    "            print(name + ', You Are Mild Thinness')\n",
    "        elif BMI <=25 :\n",
    "            print(name + ', You Have Normal Weight')\n",
    "        elif BMI <=30 :\n",
    "            print(name + ', You Are Overweight')\n",
    "        elif BMI <=35 :\n",
    "            print(name + ', You Are Obese Class I')\n",
    "        elif BMI <=40 :\n",
    "            print(name + ', You Are Obese Class II')\n",
    "        else : \n",
    "            print(name + ', You Are Obese Class III')\n",
    "else :\n",
    "    print(name + ', Make sure your input value is correct!')"
   ]
  },
  {
   "cell_type": "markdown",
   "id": "90f4229c",
   "metadata": {},
   "source": [
    "## Final BMI Calculator"
   ]
  },
  {
   "cell_type": "code",
   "execution_count": 84,
   "id": "763a6a53",
   "metadata": {},
   "outputs": [
    {
     "name": "stdout",
     "output_type": "stream",
     "text": [
      "Input your Name: Fathin Afif\n",
      "Enter you Weight in Kilograms (Kg): 66\n",
      "Enter you Height in Meter (M): 1.65\n",
      "Fathin Afif, Your BMI Score is: 24.242424242424246\n",
      "You Have Normal Weight, Good Job!.\n"
     ]
    }
   ],
   "source": [
    "name = str(input(\"Input your Name: \"))\n",
    "\n",
    "weight = float(input(\"Enter you Weight in Kilograms (Kg): \"))\n",
    "\n",
    "height = float(input(\"Enter you Height in Meter (M): \"))\n",
    "\n",
    "BMI = weight/(height**2)\n",
    "\n",
    "print(name + ', Your BMI Score is: '+ str(BMI))\n",
    "\n",
    "if BMI > 0 :\n",
    "        if BMI < 16 :\n",
    "            print('You Are Severe Thinness, You need consulting with a healthcare professional. It is also important to prioritize a balanced and nutritious diet.')\n",
    "        elif BMI <=17 :\n",
    "            print('You Are Moderate Thinness, You need consulting with a healthcare professional. It is also important to prioritize a balanced and nutritious diet.')\n",
    "        elif BMI <=18.5 :\n",
    "            print('You Are Mild Thinness, You need consulting with a healthcare professional. It is also important to prioritize a balanced and nutritious diet.')\n",
    "        elif BMI <=25 :\n",
    "            print('You Have Normal Weight, Good Job!.')\n",
    "        elif BMI <=30 :\n",
    "            print('You Are Overweight, You can go to the Gym and built your diet plan.')\n",
    "        elif BMI <=35 :\n",
    "            print('You Are Obese Class I, You can go to the Gym and built your diet plan or consulting with a healthcare professional')\n",
    "        elif BMI <=40 :\n",
    "            print('You Are Obese Class II, You can go to the Gym and built your diet plan consulting with a healthcare professional')\n",
    "        else : \n",
    "            print('You Are Obese Class III, You can go to the Gym and built your diet plan consulting with a healthcare professional.')\n",
    "else :\n",
    "    print(name + ', Make sure your input value is correct!')"
   ]
  }
 ],
 "metadata": {
  "kernelspec": {
   "display_name": "Python 3 (ipykernel)",
   "language": "python",
   "name": "python3"
  },
  "language_info": {
   "codemirror_mode": {
    "name": "ipython",
    "version": 3
   },
   "file_extension": ".py",
   "mimetype": "text/x-python",
   "name": "python",
   "nbconvert_exporter": "python",
   "pygments_lexer": "ipython3",
   "version": "3.10.9"
  }
 },
 "nbformat": 4,
 "nbformat_minor": 5
}
